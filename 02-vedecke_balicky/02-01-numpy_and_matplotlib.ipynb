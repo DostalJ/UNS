{
 "cells": [
  {
   "cell_type": "markdown",
   "metadata": {},
   "source": [
    "# Numpy a matplotlib"
   ]
  },
  {
   "cell_type": "markdown",
   "metadata": {},
   "source": [
    "*Vsechny zde probirane balicky jsou velmi obsahle, proto zde ukazeme jen nekolik zakladnich vlastnosti a metod prace s nimi. Jejich hlubsi studium je vzdy zavisle na potrebach uživatele.*"
   ]
  },
  {
   "cell_type": "code",
   "execution_count": 1,
   "metadata": {
    "collapsed": true
   },
   "outputs": [],
   "source": [
    "import numpy as np               # tradicni zkratka pri uzivani tohoto balicku\n",
    "import matplotlib.pyplot as plt  # tradicni zkratka pri uzivani tohoto balicku"
   ]
  },
  {
   "cell_type": "markdown",
   "metadata": {},
   "source": [
    "## NumPy\n",
    "Chceme-li pracovat s čímkoli ve formě matic nebo vektorů, nutně potřebujeme [**NumPy**](http://www.numpy.org/).\n",
    "### Vektor\n",
    "Jak jsme již ukázali, základní datový typ pythonu **list** nemá takové vlastnosti, jaké požadujeme od vektoru. Tuto skulinu nahrazuje právě NumPy."
   ]
  },
  {
   "cell_type": "code",
   "execution_count": 2,
   "metadata": {},
   "outputs": [
    {
     "name": "stdout",
     "output_type": "stream",
     "text": [
      "Soucet vektoru: [ 6  8 10 12]\n",
      "Nasobeni skalarem: [2 4 6 8]\n"
     ]
    }
   ],
   "source": [
    "vector1 = np.array([1, 2, 3, 4])\n",
    "vector2 = np.array([5, 6, 7, 8])\n",
    "\n",
    "print(\"Soucet vektoru:\", vector1 + vector2)\n",
    "print(\"Nasobeni skalarem:\", 2*vector1)"
   ]
  },
  {
   "cell_type": "markdown",
   "metadata": {},
   "source": [
    "### Několik užitečných funkcí z NumPy"
   ]
  },
  {
   "cell_type": "markdown",
   "metadata": {},
   "source": [
    "#### Rozměry, součet, průměr, std vektoru\n",
    "Základní operace s vektory můžeme provést několika způsoby. Ty se můžou líšit v jejich robustnosti (na jiné datové typy nemusí fungovat), rychlosti, apod. Zároveň je také můžeme použít nejenom na 1D vektory, ale i na 2D matice či vícerozměrné tensory."
   ]
  },
  {
   "cell_type": "code",
   "execution_count": 3,
   "metadata": {},
   "outputs": [
    {
     "name": "stdout",
     "output_type": "stream",
     "text": [
      "Vektor: [1 2 3 4]\n"
     ]
    }
   ],
   "source": [
    "print(\"Vektor:\", vector1)"
   ]
  },
  {
   "cell_type": "code",
   "execution_count": 4,
   "metadata": {},
   "outputs": [
    {
     "name": "stdout",
     "output_type": "stream",
     "text": [
      "Rozmer vektoru: (4,)\n"
     ]
    }
   ],
   "source": [
    "# vector_shape = np.shape(vector1)\n",
    "vector_shape = vector1.shape\n",
    "print(\"Rozmer vektoru:\", vector_shape)"
   ]
  },
  {
   "cell_type": "code",
   "execution_count": 5,
   "metadata": {},
   "outputs": [
    {
     "name": "stdout",
     "output_type": "stream",
     "text": [
      "Soucet vektoru: 10\n"
     ]
    }
   ],
   "source": [
    "# vector_sum = np.sum(vector1)\n",
    "vector_sum = vector1.sum()\n",
    "print(\"Soucet vektoru:\", vector_sum)"
   ]
  },
  {
   "cell_type": "code",
   "execution_count": 6,
   "metadata": {},
   "outputs": [
    {
     "name": "stdout",
     "output_type": "stream",
     "text": [
      "Prumer vektoru: 2.5\n"
     ]
    }
   ],
   "source": [
    "# vector_mean = np.mean(vector1)\n",
    "vector_mean = vector1.mean()\n",
    "print(\"Prumer vektoru:\", vector_mean)"
   ]
  },
  {
   "cell_type": "code",
   "execution_count": 7,
   "metadata": {},
   "outputs": [
    {
     "name": "stdout",
     "output_type": "stream",
     "text": [
      "Std vektoru: 1.118033988749895\n"
     ]
    }
   ],
   "source": [
    "# vector_std = np.std(vector1)\n",
    "vector_std = vector1.std()\n",
    "print(\"Std vektoru:\", vector_std)"
   ]
  },
  {
   "cell_type": "markdown",
   "metadata": {},
   "source": [
    "#### Skalární součin\n",
    "U typy [**np.array**](https://docs.scipy.org/doc/numpy/reference/generated/numpy.array.html) máme několik možností jak provést skalární součin:\n",
    "1. provedeme součin dvou vektorů a následně sečteme built-in funkcí pythonu,\n",
    "2. provedeme součin dvou vektorů a následně sečteme funkcí z balíčku NumPy,\n",
    "3. provedeme součin dvou vektorů a následně sečteme metodou, která přísluší samotnéhu np.array,\n",
    "4. **užijeme jednoduchou funkci z NumPy pro [skalární součin](https://docs.scipy.org/doc/numpy/reference/generated/numpy.dot.html).**"
   ]
  },
  {
   "cell_type": "code",
   "execution_count": 8,
   "metadata": {},
   "outputs": [
    {
     "name": "stdout",
     "output_type": "stream",
     "text": [
      "Skalarni soucin 1: 70\n",
      "Skalarni soucin 2: 70\n",
      "Skalarni soucin 3: 70\n",
      "Skalarni soucin 4: 70\n"
     ]
    }
   ],
   "source": [
    "dot_1 = sum(vector1*vector2)  # built-in soucet\n",
    "dot_2 = np.sum(vector1*vector2)  # soucet jako funkce z balicku NumPy\n",
    "dot_3 = (vector1*vector2).sum()  # soucet jako metoda datoveho typu np.array\n",
    "dot_4 = np.dot(vector1, vector2)  # samotna funkce z NumPy pro skalarni soucin\n",
    "\n",
    "print(\"Skalarni soucin 1:\", dot_1)\n",
    "print(\"Skalarni soucin 2:\", dot_2)\n",
    "print(\"Skalarni soucin 3:\", dot_3)\n",
    "print(\"Skalarni soucin 4:\", dot_4)"
   ]
  },
  {
   "cell_type": "markdown",
   "metadata": {},
   "source": [
    "### Matice\n",
    "NumPy má speciální objekt pro matice [**np.matrix**](https://docs.scipy.org/doc/numpy/reference/generated/numpy.matrix.html). V praxi je však stále snazší úžívat vícerozměrnou **np.array**. Nemusíme poté řešit rozdíl mezi vektorem a matici, například při jejich násobení."
   ]
  },
  {
   "cell_type": "code",
   "execution_count": 9,
   "metadata": {
    "collapsed": true
   },
   "outputs": [],
   "source": [
    "matrix1 = np.array([[1, 2, 3],\n",
    "                    [4, 5, 6]])\n",
    "matrix2 = np.array([[7, 8, 9],\n",
    "                    [10, 11, 12]])"
   ]
  },
  {
   "cell_type": "markdown",
   "metadata": {},
   "source": [
    "Máme opět několik možností jak provést transposici. Buďto pomocí [funkce](https://docs.scipy.org/doc/numpy-1.12.0/reference/generated/numpy.transpose.html) balíčku, metody nebo atributu objektu. Je naprosto irelevantní, kterou metodu užijeme."
   ]
  },
  {
   "cell_type": "code",
   "execution_count": 10,
   "metadata": {},
   "outputs": [
    {
     "name": "stdout",
     "output_type": "stream",
     "text": [
      "[[1 4]\n",
      " [2 5]\n",
      " [3 6]]\n",
      "[[1 4]\n",
      " [2 5]\n",
      " [3 6]]\n",
      "[[1 4]\n",
      " [2 5]\n",
      " [3 6]]\n"
     ]
    }
   ],
   "source": [
    "transpose_1 = matrix1.transpose()   # metoda\n",
    "transpose_2 = matrix1.T             # atribut\n",
    "transpose_3 = np.transpose(matrix1) # funkce\n",
    "\n",
    "print(transpose_1)\n",
    "print(transpose_2)\n",
    "print(transpose_3)"
   ]
  },
  {
   "cell_type": "markdown",
   "metadata": {},
   "source": [
    "Pro soucin matic slouží funkce [**np.matmul()**](https://docs.scipy.org/doc/numpy-dev/reference/generated/numpy.matmul.html)."
   ]
  },
  {
   "cell_type": "code",
   "execution_count": 11,
   "metadata": {},
   "outputs": [
    {
     "name": "stdout",
     "output_type": "stream",
     "text": [
      "Maticovy soucin:\n",
      "[[ 50  68]\n",
      " [122 167]]\n"
     ]
    }
   ],
   "source": [
    "mat_mul = np.matmul(matrix1, matrix2.transpose())\n",
    "print(\"Maticovy soucin:\")\n",
    "print(mat_mul)  # vypisuji na dalsi radek jen kvuli lepsimu formatovani"
   ]
  },
  {
   "cell_type": "markdown",
   "metadata": {},
   "source": [
    "Pokud bychom pouzili pouze **\\* (hvězdičku)**, násobili bychom *element-wise*. (U objektu třídy **np.matrix** by se jednalo o spravny maticovy soucin)."
   ]
  },
  {
   "cell_type": "code",
   "execution_count": 12,
   "metadata": {},
   "outputs": [
    {
     "name": "stdout",
     "output_type": "stream",
     "text": [
      "Element-wise soucin:\n",
      "[[ 7 16 27]\n",
      " [40 55 72]]\n"
     ]
    }
   ],
   "source": [
    "elemtnt_wise = matrix1*matrix2\n",
    "print(\"Element-wise soucin:\")\n",
    "print(elemtnt_wise)  # vypisuji na dalsi radek jen kvuli lepsimu formatovani"
   ]
  },
  {
   "cell_type": "markdown",
   "metadata": {},
   "source": [
    "## Matplotlib\n",
    "Pokud chceme cokoliv vykreslit nutně potřebujeme [**Matplotlib**](https://matplotlib.org/)."
   ]
  },
  {
   "cell_type": "code",
   "execution_count": 13,
   "metadata": {},
   "outputs": [
    {
     "name": "stdout",
     "output_type": "stream",
     "text": [
      "X: [1, 2, 3, 4, 5, 6]\n",
      "Y: [1, 8, 27, 64, 125, 216]\n"
     ]
    }
   ],
   "source": [
    "# zde jen tvorime data\n",
    "X = [1, 2, 3, 4, 5, 6]\n",
    "\n",
    "def f(x):\n",
    "    return x**3\n",
    "\n",
    "Y = [f(x) for x in X]  # rychla tvorba listu\n",
    "\n",
    "print(\"X:\", X)\n",
    "print(\"Y:\", Y)"
   ]
  },
  {
   "cell_type": "markdown",
   "metadata": {},
   "source": [
    "Vytvorit graf je pomocí příkazu [**plt.plot()**](https://matplotlib.org/api/pyplot_api.html) velmi snadné."
   ]
  },
  {
   "cell_type": "code",
   "execution_count": 14,
   "metadata": {},
   "outputs": [
    {
     "data": {
      "image/png": "[encoded data removed]",
      "text/plain": [
       "<Figure size 432x288 with 1 Axes>"
      ]
     },
     "metadata": {},
     "output_type": "display_data"
    }
   ],
   "source": [
    "plt.plot(X, Y)\n",
    "plt.show()"
   ]
  },
  {
   "cell_type": "code",
   "execution_count": 15,
   "metadata": {},
   "outputs": [
    {
     "data": {
      "image/png": "[encoded data removed]",
      "text/plain": [
       "<Figure size 432x288 with 1 Axes>"
      ]
     },
     "metadata": {},
     "output_type": "display_data"
    }
   ],
   "source": [
    "# jen pro hezci obrazky, nema zadny hlubsi vyznam\n",
    "from matplotlib.style import use\n",
    "use('fivethirtyeight')\n",
    "\n",
    "plt.plot(X, Y)\n",
    "plt.show()"
   ]
  },
  {
   "cell_type": "markdown",
   "metadata": {},
   "source": [
    "Můžeme si ho samozřejmě snadno nastavit."
   ]
  },
  {
   "cell_type": "code",
   "execution_count": 16,
   "metadata": {},
   "outputs": [
    {
     "data": {
      "image/png": "[encoded data removed]",
      "text/plain": [
       "<Figure size 432x288 with 1 Axes>"
      ]
     },
     "metadata": {},
     "output_type": "display_data"
    }
   ],
   "source": [
    "with plt.xkcd():\n",
    "    plt.plot(X, Y, color='#ff7ccf', linewidth=10)\n",
    "    plt.scatter([X[0], X[-1]], [Y[0], Y[-1]], marker='o', color='#ff7ccf', s=90)\n",
    "    plt.xlim((-4, 10))\n",
    "    plt.ylim((-100, 300))\n",
    "    plt.title(\"Amazing graph\")\n",
    "    plt.xlabel(\"Age\")\n",
    "    plt.ylabel(\"Weight\")\n",
    "plt.show()"
   ]
  },
  {
   "cell_type": "markdown",
   "metadata": {},
   "source": [
    "### Matplotlib toho samozřejmě umí mnohem víc: [galerie](https://matplotlib.org/gallery.html)!"
   ]
  }
 ],
 "metadata": {
  "kernelspec": {
   "display_name": "Python 3",
   "language": "python",
   "name": "python3"
  },
  "language_info": {
   "codemirror_mode": {
    "name": "ipython",
    "version": 3
   },
   "file_extension": ".py",
   "mimetype": "text/x-python",
   "name": "python",
   "nbconvert_exporter": "python",
   "pygments_lexer": "ipython3",
   "version": "3.6.4"
  }
 },
 "nbformat": 4,
 "nbformat_minor": 2
}
