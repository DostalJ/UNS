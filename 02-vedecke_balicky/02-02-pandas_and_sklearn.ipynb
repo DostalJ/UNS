{
 "cells": [
  {
   "cell_type": "markdown",
   "metadata": {},
   "source": [
    "# Pandas and Sklearn\n",
    "\n",
    "*Vsechny zde probirane balicky jsou velmi obsahle, proto zde ukazeme jen nekolik zakladnich vlastnosti a metod prace s nimi. Jejich hlubsi studium je vzdy zavisle na potrebach uživatele.*\n",
    "\n",
    "**Real usecase:** Podívejme se na data o cereáliích a pokusme se predikovat jak budou hodnoceny pouze pomocí jejich složení."
   ]
  },
  {
   "cell_type": "code",
   "execution_count": 2,
   "metadata": {
    "collapsed": true
   },
   "outputs": [],
   "source": [
    "import pandas as pd                                   # excel on steroids\n",
    "\n",
    "from sklearn.linear_model import LinearRegression     # linear regression implemented in sklearn\n",
    "from sklearn.model_selection import train_test_split  # split data to train and test set\n",
    "\n",
    "import matplotlib.pyplot as plt                       # package for making nice graphs\n",
    "from matplotlib.style import use                      # only for nicer graphs\n",
    "use('ggplot')                                         # only for nicer graphs"
   ]
  },
  {
   "cell_type": "markdown",
   "metadata": {},
   "source": [
    "Načteme data z .csv souboru. Jelikož naše data užívají rozdílný oddělovač sloupců než pandas defalutně očekává, musíme specifikovat jeho skutečný tvar. Obdobně pro řádky užité jako hlavička dat."
   ]
  },
  {
   "cell_type": "code",
   "execution_count": 3,
   "metadata": {},
   "outputs": [
    {
     "data": {
      "text/html": [
       "<div>\n",
       "<style scoped>\n",
       "    .dataframe tbody tr th:only-of-type {\n",
       "        vertical-align: middle;\n",
       "    }\n",
       "\n",
       "    .dataframe tbody tr th {\n",
       "        vertical-align: top;\n",
       "    }\n",
       "\n",
       "    .dataframe thead tr th {\n",
       "        text-align: left;\n",
       "    }\n",
       "</style>\n",
       "<table border=\"1\" class=\"dataframe\">\n",
       "  <thead>\n",
       "    <tr>\n",
       "      <th></th>\n",
       "      <th>name</th>\n",
       "      <th>mfr</th>\n",
       "      <th>type</th>\n",
       "      <th>calories</th>\n",
       "      <th>protein</th>\n",
       "      <th>fat</th>\n",
       "      <th>sodium</th>\n",
       "      <th>fiber</th>\n",
       "      <th>carbo</th>\n",
       "      <th>sugars</th>\n",
       "      <th>potass</th>\n",
       "      <th>vitamins</th>\n",
       "      <th>shelf</th>\n",
       "      <th>weight</th>\n",
       "      <th>cups</th>\n",
       "      <th>rating</th>\n",
       "    </tr>\n",
       "    <tr>\n",
       "      <th></th>\n",
       "      <th>String</th>\n",
       "      <th>Categorical</th>\n",
       "      <th>Categorical</th>\n",
       "      <th>Int</th>\n",
       "      <th>Int</th>\n",
       "      <th>Int</th>\n",
       "      <th>Int</th>\n",
       "      <th>Float</th>\n",
       "      <th>Float</th>\n",
       "      <th>Int</th>\n",
       "      <th>Int</th>\n",
       "      <th>Int</th>\n",
       "      <th>Int</th>\n",
       "      <th>Float</th>\n",
       "      <th>Float</th>\n",
       "      <th>Float</th>\n",
       "    </tr>\n",
       "  </thead>\n",
       "  <tbody>\n",
       "    <tr>\n",
       "      <th>0</th>\n",
       "      <td>100% Bran</td>\n",
       "      <td>N</td>\n",
       "      <td>C</td>\n",
       "      <td>70</td>\n",
       "      <td>4</td>\n",
       "      <td>1</td>\n",
       "      <td>130</td>\n",
       "      <td>10.0</td>\n",
       "      <td>5.0</td>\n",
       "      <td>6</td>\n",
       "      <td>280</td>\n",
       "      <td>25</td>\n",
       "      <td>3</td>\n",
       "      <td>1.0</td>\n",
       "      <td>0.33</td>\n",
       "      <td>68.402973</td>\n",
       "    </tr>\n",
       "    <tr>\n",
       "      <th>1</th>\n",
       "      <td>100% Natural Bran</td>\n",
       "      <td>Q</td>\n",
       "      <td>C</td>\n",
       "      <td>120</td>\n",
       "      <td>3</td>\n",
       "      <td>5</td>\n",
       "      <td>15</td>\n",
       "      <td>2.0</td>\n",
       "      <td>8.0</td>\n",
       "      <td>8</td>\n",
       "      <td>135</td>\n",
       "      <td>0</td>\n",
       "      <td>3</td>\n",
       "      <td>1.0</td>\n",
       "      <td>1.00</td>\n",
       "      <td>33.983679</td>\n",
       "    </tr>\n",
       "    <tr>\n",
       "      <th>2</th>\n",
       "      <td>All-Bran</td>\n",
       "      <td>K</td>\n",
       "      <td>C</td>\n",
       "      <td>70</td>\n",
       "      <td>4</td>\n",
       "      <td>1</td>\n",
       "      <td>260</td>\n",
       "      <td>9.0</td>\n",
       "      <td>7.0</td>\n",
       "      <td>5</td>\n",
       "      <td>320</td>\n",
       "      <td>25</td>\n",
       "      <td>3</td>\n",
       "      <td>1.0</td>\n",
       "      <td>0.33</td>\n",
       "      <td>59.425505</td>\n",
       "    </tr>\n",
       "    <tr>\n",
       "      <th>3</th>\n",
       "      <td>All-Bran with Extra Fiber</td>\n",
       "      <td>K</td>\n",
       "      <td>C</td>\n",
       "      <td>50</td>\n",
       "      <td>4</td>\n",
       "      <td>0</td>\n",
       "      <td>140</td>\n",
       "      <td>14.0</td>\n",
       "      <td>8.0</td>\n",
       "      <td>0</td>\n",
       "      <td>330</td>\n",
       "      <td>25</td>\n",
       "      <td>3</td>\n",
       "      <td>1.0</td>\n",
       "      <td>0.50</td>\n",
       "      <td>93.704912</td>\n",
       "    </tr>\n",
       "    <tr>\n",
       "      <th>4</th>\n",
       "      <td>Almond Delight</td>\n",
       "      <td>R</td>\n",
       "      <td>C</td>\n",
       "      <td>110</td>\n",
       "      <td>2</td>\n",
       "      <td>2</td>\n",
       "      <td>200</td>\n",
       "      <td>1.0</td>\n",
       "      <td>14.0</td>\n",
       "      <td>8</td>\n",
       "      <td>-1</td>\n",
       "      <td>25</td>\n",
       "      <td>3</td>\n",
       "      <td>1.0</td>\n",
       "      <td>0.75</td>\n",
       "      <td>34.384843</td>\n",
       "    </tr>\n",
       "  </tbody>\n",
       "</table>\n",
       "</div>"
      ],
      "text/plain": [
       "                        name         mfr        type calories protein fat  \\\n",
       "                      String Categorical Categorical      Int     Int Int   \n",
       "0                  100% Bran           N           C       70       4   1   \n",
       "1          100% Natural Bran           Q           C      120       3   5   \n",
       "2                   All-Bran           K           C       70       4   1   \n",
       "3  All-Bran with Extra Fiber           K           C       50       4   0   \n",
       "4             Almond Delight           R           C      110       2   2   \n",
       "\n",
       "  sodium fiber carbo sugars potass vitamins shelf weight  cups     rating  \n",
       "     Int Float Float    Int    Int      Int   Int  Float Float      Float  \n",
       "0    130  10.0   5.0      6    280       25     3    1.0  0.33  68.402973  \n",
       "1     15   2.0   8.0      8    135        0     3    1.0  1.00  33.983679  \n",
       "2    260   9.0   7.0      5    320       25     3    1.0  0.33  59.425505  \n",
       "3    140  14.0   8.0      0    330       25     3    1.0  0.50  93.704912  \n",
       "4    200   1.0  14.0      8     -1       25     3    1.0  0.75  34.384843  "
      ]
     },
     "execution_count": 3,
     "metadata": {},
     "output_type": "execute_result"
    }
   ],
   "source": [
    "# filepath_or_buffer: cesta k souboru s daty\n",
    "# delimiter:          znak uzity k oddeleni sloupcu\n",
    "# header:             radky slouzici jako hlavicka (nazvy sloupcu)\n",
    "df = pd.read_csv(filepath_or_buffer='./data/cereals.csv', delimiter=';', header=[0,1])\n",
    "\n",
    "df.head(5)  # vypise prvnich pet radku"
   ]
  },
  {
   "cell_type": "markdown",
   "metadata": {},
   "source": [
    "Snažíme odhadnout hodnocení ze složení cereálií, zajímá nás, jestli skutečně složení koreluje s hodnocením. Vykreslíme tedy graf závislosti hodnocení na jedné hodnotě charakterizující složení."
   ]
  },
  {
   "cell_type": "code",
   "execution_count": 4,
   "metadata": {},
   "outputs": [
    {
     "data": {
      "image/png": "[encoded data removed]",
      "text/plain": [
       "<Figure size 432x288 with 1 Axes>"
      ]
     },
     "metadata": {},
     "output_type": "display_data"
    }
   ],
   "source": [
    "plt.scatter(df['sugars'], df['rating'])\n",
    "plt.xlabel(\"sugars\")\n",
    "plt.ylabel(\"rating\")\n",
    "plt.show()"
   ]
  },
  {
   "cell_type": "markdown",
   "metadata": {},
   "source": [
    "Samozřejmě se podíváme na všechny hodnoty, které užijeme pro predikci."
   ]
  },
  {
   "cell_type": "code",
   "execution_count": 6,
   "metadata": {},
   "outputs": [
    {
     "data": {
      "image/png": "[encoded data removed]",
      "text/plain": [
       "<Figure size 1296x360 with 8 Axes>"
      ]
     },
     "metadata": {},
     "output_type": "display_data"
    }
   ],
   "source": [
    "f, axarr = plt.subplots(2, 4, figsize=(18, 5))  # definujeme zakladni mrizku pro kreslení grafů\n",
    "\n",
    "axarr[0, 0].scatter(df['calories'], df['rating'])  # vykreslime jeden z grafu\n",
    "axarr[0, 0].set_title('calories')                  # napiseme nadpis\n",
    "\n",
    "axarr[0, 1].scatter(df['protein'], df['rating'])\n",
    "axarr[0, 1].set_title('protein')\n",
    "\n",
    "axarr[0, 2].scatter(df['fat'], df['rating'])\n",
    "axarr[0, 2].set_title('fat')\n",
    "\n",
    "axarr[0, 3].scatter(df['sodium'], df['rating'])\n",
    "axarr[0, 3].set_title('sodium')\n",
    "\n",
    "axarr[1, 0].scatter(df['carbo'], df['rating'])\n",
    "axarr[1, 0].set_title('carbo')\n",
    "\n",
    "axarr[1, 1].scatter(df['sugars'], df['rating'])\n",
    "axarr[1, 1].set_title('sugars')\n",
    "\n",
    "axarr[1, 2].scatter(df['potass'], df['rating'])\n",
    "axarr[1, 2].set_title('potass')\n",
    "\n",
    "plt.show()"
   ]
  },
  {
   "cell_type": "code",
   "execution_count": 7,
   "metadata": {
    "collapsed": true
   },
   "outputs": [],
   "source": [
    "X = df[['calories', 'protein', 'fat', 'sodium', 'carbo', 'sugars', 'potass']].values  # extrahuje features z tabulky\n",
    "y = df['rating'].values                                                               # extrahuje hodnoty, ktere se snazime odhadnout\n",
    "\n",
    "# rozdeli X a y na treninkovou a testovaci cast\n",
    "X_train, X_test, y_train, y_test = train_test_split(X, y, test_size=0.1, random_state=7)"
   ]
  },
  {
   "cell_type": "code",
   "execution_count": 9,
   "metadata": {},
   "outputs": [
    {
     "data": {
      "text/plain": [
       "LinearRegression(copy_X=True, fit_intercept=True, n_jobs=1, normalize=False)"
      ]
     },
     "execution_count": 9,
     "metadata": {},
     "output_type": "execute_result"
    }
   ],
   "source": [
    "myLinearRegression = LinearRegression()  # definuje model na defalutni model\n",
    "myLinearRegression.fit(X=X_train, y=y_train)  # natrenuje model na treninkovych datech"
   ]
  },
  {
   "cell_type": "code",
   "execution_count": 11,
   "metadata": {},
   "outputs": [
    {
     "name": "stdout",
     "output_type": "stream",
     "text": [
      "-------------Validation on the test set.-------------\n",
      "Coefficient of determination: 0.941\n",
      "-----------------------------------------------------\n",
      "Target: 60.756, Prediction: 65.342, Difference: 4.586\n",
      "Target: 31.072, Prediction: 32.307, Difference: 1.235\n",
      "Target: 39.703, Prediction: 43.448, Difference: 3.745\n",
      "Target: 35.783, Prediction: 31.591, Difference: 4.192\n",
      "Target: 45.328, Prediction: 46.251, Difference: 0.923\n",
      "Target: 19.824, Prediction: 20.332, Difference: 0.509\n",
      "Target: 40.917, Prediction: 39.863, Difference: 1.054\n",
      "Target: 41.445, Prediction: 41.269, Difference: 0.176\n",
      "-----------------------------------------------------\n"
     ]
    }
   ],
   "source": [
    "print(\"-------------Validation on the test set.-------------\")  # jen pro hezci zapis na obrazovku\n",
    "\n",
    "det_coef = myLinearRegression.score(X=X_test, y=y_test)  # spocita R2koeficient\n",
    "print('Coefficient of determination: {:.3f}'.format(det_coef))\n",
    "\n",
    "print(\"-\"*53)  # jen pro zapis vypis na obrazovku\n",
    "\n",
    "y_test_pred = myLinearRegression.predict(X_test)  # udela predikci pro testovaci data\n",
    "for i in range(y_test.shape[0]):\n",
    "    print('Target: {:.3f}, Prediction: {:.3f}, Difference: {:.3f}'.format(float(y_test[i]),\n",
    "                                                                          float(y_test_pred[i]),\n",
    "                                                                          abs(float(y_test[i]) - float(y_test_pred[i]))))\n",
    "print(\"-\"*53)  # jen pro hezci zapis na obrazovku"
   ]
  }
 ],
 "metadata": {
  "kernelspec": {
   "display_name": "Python 3",
   "language": "python",
   "name": "python3"
  },
  "language_info": {
   "codemirror_mode": {
    "name": "ipython",
    "version": 3
   },
   "file_extension": ".py",
   "mimetype": "text/x-python",
   "name": "python",
   "nbconvert_exporter": "python",
   "pygments_lexer": "ipython3",
   "version": "3.6.4"
  }
 },
 "nbformat": 4,
 "nbformat_minor": 2
}
