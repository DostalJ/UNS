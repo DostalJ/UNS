{
 "cells": [
  {
   "cell_type": "markdown",
   "metadata": {},
   "source": [
    "# Preprocessing\n",
    "V tomto notebooku zpracujeme data z .csv souboru do vhodne formy, se kterou se nam bude dobre pracovat pri treninky ML modelu.\n",
    "\n",
    "Nejprve importujeme zakladni knihovny."
   ]
  },
  {
   "cell_type": "code",
   "execution_count": 26,
   "metadata": {
    "collapsed": true
   },
   "outputs": [],
   "source": [
    "import pickle  # efektivni (binarni) ukladani dat\n",
    "import numpy as np  # vektorove a maticove operace\n",
    "import pandas as pd  # nacteni z csv\n",
    "import sklearn as skl  # preprocessing dat\n",
    "import matplotlib.pyplot as plt  # obrazky\n",
    "from matplotlib.style import use  # hezci obrazky\n",
    "use('ggplot')  # hezci obrazky"
   ]
  },
  {
   "cell_type": "markdown",
   "metadata": {},
   "source": [
    "## Nacteni dat"
   ]
  },
  {
   "cell_type": "code",
   "execution_count": 27,
   "metadata": {},
   "outputs": [
    {
     "data": {
      "text/html": [
       "<div>\n",
       "<style scoped>\n",
       "    .dataframe tbody tr th:only-of-type {\n",
       "        vertical-align: middle;\n",
       "    }\n",
       "\n",
       "    .dataframe tbody tr th {\n",
       "        vertical-align: top;\n",
       "    }\n",
       "\n",
       "    .dataframe thead th {\n",
       "        text-align: right;\n",
       "    }\n",
       "</style>\n",
       "<table border=\"1\" class=\"dataframe\">\n",
       "  <thead>\n",
       "    <tr style=\"text-align: right;\">\n",
       "      <th></th>\n",
       "      <th>label</th>\n",
       "      <th>pixel0</th>\n",
       "      <th>pixel1</th>\n",
       "      <th>pixel2</th>\n",
       "      <th>pixel3</th>\n",
       "      <th>pixel4</th>\n",
       "      <th>pixel5</th>\n",
       "      <th>pixel6</th>\n",
       "      <th>pixel7</th>\n",
       "      <th>pixel8</th>\n",
       "      <th>...</th>\n",
       "      <th>pixel774</th>\n",
       "      <th>pixel775</th>\n",
       "      <th>pixel776</th>\n",
       "      <th>pixel777</th>\n",
       "      <th>pixel778</th>\n",
       "      <th>pixel779</th>\n",
       "      <th>pixel780</th>\n",
       "      <th>pixel781</th>\n",
       "      <th>pixel782</th>\n",
       "      <th>pixel783</th>\n",
       "    </tr>\n",
       "  </thead>\n",
       "  <tbody>\n",
       "    <tr>\n",
       "      <th>0</th>\n",
       "      <td>1</td>\n",
       "      <td>0</td>\n",
       "      <td>0</td>\n",
       "      <td>0</td>\n",
       "      <td>0</td>\n",
       "      <td>0</td>\n",
       "      <td>0</td>\n",
       "      <td>0</td>\n",
       "      <td>0</td>\n",
       "      <td>0</td>\n",
       "      <td>...</td>\n",
       "      <td>0</td>\n",
       "      <td>0</td>\n",
       "      <td>0</td>\n",
       "      <td>0</td>\n",
       "      <td>0</td>\n",
       "      <td>0</td>\n",
       "      <td>0</td>\n",
       "      <td>0</td>\n",
       "      <td>0</td>\n",
       "      <td>0</td>\n",
       "    </tr>\n",
       "    <tr>\n",
       "      <th>1</th>\n",
       "      <td>0</td>\n",
       "      <td>0</td>\n",
       "      <td>0</td>\n",
       "      <td>0</td>\n",
       "      <td>0</td>\n",
       "      <td>0</td>\n",
       "      <td>0</td>\n",
       "      <td>0</td>\n",
       "      <td>0</td>\n",
       "      <td>0</td>\n",
       "      <td>...</td>\n",
       "      <td>0</td>\n",
       "      <td>0</td>\n",
       "      <td>0</td>\n",
       "      <td>0</td>\n",
       "      <td>0</td>\n",
       "      <td>0</td>\n",
       "      <td>0</td>\n",
       "      <td>0</td>\n",
       "      <td>0</td>\n",
       "      <td>0</td>\n",
       "    </tr>\n",
       "    <tr>\n",
       "      <th>2</th>\n",
       "      <td>1</td>\n",
       "      <td>0</td>\n",
       "      <td>0</td>\n",
       "      <td>0</td>\n",
       "      <td>0</td>\n",
       "      <td>0</td>\n",
       "      <td>0</td>\n",
       "      <td>0</td>\n",
       "      <td>0</td>\n",
       "      <td>0</td>\n",
       "      <td>...</td>\n",
       "      <td>0</td>\n",
       "      <td>0</td>\n",
       "      <td>0</td>\n",
       "      <td>0</td>\n",
       "      <td>0</td>\n",
       "      <td>0</td>\n",
       "      <td>0</td>\n",
       "      <td>0</td>\n",
       "      <td>0</td>\n",
       "      <td>0</td>\n",
       "    </tr>\n",
       "    <tr>\n",
       "      <th>3</th>\n",
       "      <td>4</td>\n",
       "      <td>0</td>\n",
       "      <td>0</td>\n",
       "      <td>0</td>\n",
       "      <td>0</td>\n",
       "      <td>0</td>\n",
       "      <td>0</td>\n",
       "      <td>0</td>\n",
       "      <td>0</td>\n",
       "      <td>0</td>\n",
       "      <td>...</td>\n",
       "      <td>0</td>\n",
       "      <td>0</td>\n",
       "      <td>0</td>\n",
       "      <td>0</td>\n",
       "      <td>0</td>\n",
       "      <td>0</td>\n",
       "      <td>0</td>\n",
       "      <td>0</td>\n",
       "      <td>0</td>\n",
       "      <td>0</td>\n",
       "    </tr>\n",
       "    <tr>\n",
       "      <th>4</th>\n",
       "      <td>0</td>\n",
       "      <td>0</td>\n",
       "      <td>0</td>\n",
       "      <td>0</td>\n",
       "      <td>0</td>\n",
       "      <td>0</td>\n",
       "      <td>0</td>\n",
       "      <td>0</td>\n",
       "      <td>0</td>\n",
       "      <td>0</td>\n",
       "      <td>...</td>\n",
       "      <td>0</td>\n",
       "      <td>0</td>\n",
       "      <td>0</td>\n",
       "      <td>0</td>\n",
       "      <td>0</td>\n",
       "      <td>0</td>\n",
       "      <td>0</td>\n",
       "      <td>0</td>\n",
       "      <td>0</td>\n",
       "      <td>0</td>\n",
       "    </tr>\n",
       "    <tr>\n",
       "      <th>5</th>\n",
       "      <td>0</td>\n",
       "      <td>0</td>\n",
       "      <td>0</td>\n",
       "      <td>0</td>\n",
       "      <td>0</td>\n",
       "      <td>0</td>\n",
       "      <td>0</td>\n",
       "      <td>0</td>\n",
       "      <td>0</td>\n",
       "      <td>0</td>\n",
       "      <td>...</td>\n",
       "      <td>0</td>\n",
       "      <td>0</td>\n",
       "      <td>0</td>\n",
       "      <td>0</td>\n",
       "      <td>0</td>\n",
       "      <td>0</td>\n",
       "      <td>0</td>\n",
       "      <td>0</td>\n",
       "      <td>0</td>\n",
       "      <td>0</td>\n",
       "    </tr>\n",
       "    <tr>\n",
       "      <th>6</th>\n",
       "      <td>7</td>\n",
       "      <td>0</td>\n",
       "      <td>0</td>\n",
       "      <td>0</td>\n",
       "      <td>0</td>\n",
       "      <td>0</td>\n",
       "      <td>0</td>\n",
       "      <td>0</td>\n",
       "      <td>0</td>\n",
       "      <td>0</td>\n",
       "      <td>...</td>\n",
       "      <td>0</td>\n",
       "      <td>0</td>\n",
       "      <td>0</td>\n",
       "      <td>0</td>\n",
       "      <td>0</td>\n",
       "      <td>0</td>\n",
       "      <td>0</td>\n",
       "      <td>0</td>\n",
       "      <td>0</td>\n",
       "      <td>0</td>\n",
       "    </tr>\n",
       "    <tr>\n",
       "      <th>7</th>\n",
       "      <td>3</td>\n",
       "      <td>0</td>\n",
       "      <td>0</td>\n",
       "      <td>0</td>\n",
       "      <td>0</td>\n",
       "      <td>0</td>\n",
       "      <td>0</td>\n",
       "      <td>0</td>\n",
       "      <td>0</td>\n",
       "      <td>0</td>\n",
       "      <td>...</td>\n",
       "      <td>0</td>\n",
       "      <td>0</td>\n",
       "      <td>0</td>\n",
       "      <td>0</td>\n",
       "      <td>0</td>\n",
       "      <td>0</td>\n",
       "      <td>0</td>\n",
       "      <td>0</td>\n",
       "      <td>0</td>\n",
       "      <td>0</td>\n",
       "    </tr>\n",
       "    <tr>\n",
       "      <th>8</th>\n",
       "      <td>5</td>\n",
       "      <td>0</td>\n",
       "      <td>0</td>\n",
       "      <td>0</td>\n",
       "      <td>0</td>\n",
       "      <td>0</td>\n",
       "      <td>0</td>\n",
       "      <td>0</td>\n",
       "      <td>0</td>\n",
       "      <td>0</td>\n",
       "      <td>...</td>\n",
       "      <td>0</td>\n",
       "      <td>0</td>\n",
       "      <td>0</td>\n",
       "      <td>0</td>\n",
       "      <td>0</td>\n",
       "      <td>0</td>\n",
       "      <td>0</td>\n",
       "      <td>0</td>\n",
       "      <td>0</td>\n",
       "      <td>0</td>\n",
       "    </tr>\n",
       "    <tr>\n",
       "      <th>9</th>\n",
       "      <td>3</td>\n",
       "      <td>0</td>\n",
       "      <td>0</td>\n",
       "      <td>0</td>\n",
       "      <td>0</td>\n",
       "      <td>0</td>\n",
       "      <td>0</td>\n",
       "      <td>0</td>\n",
       "      <td>0</td>\n",
       "      <td>0</td>\n",
       "      <td>...</td>\n",
       "      <td>0</td>\n",
       "      <td>0</td>\n",
       "      <td>0</td>\n",
       "      <td>0</td>\n",
       "      <td>0</td>\n",
       "      <td>0</td>\n",
       "      <td>0</td>\n",
       "      <td>0</td>\n",
       "      <td>0</td>\n",
       "      <td>0</td>\n",
       "    </tr>\n",
       "  </tbody>\n",
       "</table>\n",
       "<p>10 rows × 785 columns</p>\n",
       "</div>"
      ],
      "text/plain": [
       "   label  pixel0  pixel1  pixel2  pixel3  pixel4  pixel5  pixel6  pixel7  \\\n",
       "0      1       0       0       0       0       0       0       0       0   \n",
       "1      0       0       0       0       0       0       0       0       0   \n",
       "2      1       0       0       0       0       0       0       0       0   \n",
       "3      4       0       0       0       0       0       0       0       0   \n",
       "4      0       0       0       0       0       0       0       0       0   \n",
       "5      0       0       0       0       0       0       0       0       0   \n",
       "6      7       0       0       0       0       0       0       0       0   \n",
       "7      3       0       0       0       0       0       0       0       0   \n",
       "8      5       0       0       0       0       0       0       0       0   \n",
       "9      3       0       0       0       0       0       0       0       0   \n",
       "\n",
       "   pixel8    ...     pixel774  pixel775  pixel776  pixel777  pixel778  \\\n",
       "0       0    ...            0         0         0         0         0   \n",
       "1       0    ...            0         0         0         0         0   \n",
       "2       0    ...            0         0         0         0         0   \n",
       "3       0    ...            0         0         0         0         0   \n",
       "4       0    ...            0         0         0         0         0   \n",
       "5       0    ...            0         0         0         0         0   \n",
       "6       0    ...            0         0         0         0         0   \n",
       "7       0    ...            0         0         0         0         0   \n",
       "8       0    ...            0         0         0         0         0   \n",
       "9       0    ...            0         0         0         0         0   \n",
       "\n",
       "   pixel779  pixel780  pixel781  pixel782  pixel783  \n",
       "0         0         0         0         0         0  \n",
       "1         0         0         0         0         0  \n",
       "2         0         0         0         0         0  \n",
       "3         0         0         0         0         0  \n",
       "4         0         0         0         0         0  \n",
       "5         0         0         0         0         0  \n",
       "6         0         0         0         0         0  \n",
       "7         0         0         0         0         0  \n",
       "8         0         0         0         0         0  \n",
       "9         0         0         0         0         0  \n",
       "\n",
       "[10 rows x 785 columns]"
      ]
     },
     "execution_count": 27,
     "metadata": {},
     "output_type": "execute_result"
    }
   ],
   "source": [
    "PATH = \"./data/MNIST.csv\"  # cesta k .csv souboru s daty\n",
    "df = pd.read_csv(PATH)  # nacteme data\n",
    "df.head(10)  # vypise prvnich deset radku tabulky s daty"
   ]
  },
  {
   "cell_type": "markdown",
   "metadata": {},
   "source": [
    "Definujeme nekolik zakladnich vlastnosti dat. Tyto vlastnosti by se s trochou snahy daly ziskat z dat samotnych, ale my je zde jednoduse opiseme z popisu dat."
   ]
  },
  {
   "cell_type": "code",
   "execution_count": 28,
   "metadata": {
    "collapsed": true
   },
   "outputs": [],
   "source": [
    "IMAGE_SIZE = 28  # veliksot obrazku\n",
    "PIXEL_DEPTH = 255.0  # pocet pixelu"
   ]
  },
  {
   "cell_type": "markdown",
   "metadata": {},
   "source": [
    "S *pandas.dataframe* se nam dobre importovali data. Dale je vsak pretransformujeme do vhodneho formatu a ulozime v *numpy.array*.\n",
    "\n",
    "* *Features* (tj. jednotlive pixely obrazku) budou ulozeny jako radky v matici **X**.\n",
    "\n",
    "* *Labels* jsou ulozeny open jako [*one-hot-encoded*](https://www.quora.com/What-is-one-hot-encoding-and-when-is-it-used-in-data-science) radky v matici **y**."
   ]
  },
  {
   "cell_type": "code",
   "execution_count": 29,
   "metadata": {},
   "outputs": [
    {
     "name": "stdout",
     "output_type": "stream",
     "text": [
      "Shape of X: (42000, 784)\n",
      "Shape of y: (42000, 10)\n"
     ]
    }
   ],
   "source": [
    "X = df[['pixel{:d}'.format(i) for i in range(784)]].values  # sloupce s pixely do matice radek=vektor pixelu pro jeden obrazek\n",
    "y = pd.get_dummies(df['label']).values  # 'label' do one-hot-encoding matice\n",
    "\n",
    "print(\"Shape of X:\", X.shape)  # vypise rozmery X\n",
    "print(\"Shape of y:\", y.shape)  # vypise rozmery y"
   ]
  },
  {
   "cell_type": "markdown",
   "metadata": {},
   "source": [
    "Stale mluvime o obrazcich cisel, ale do ted jsme zadny nevideli.\n",
    "\n",
    "Definujeme funkci, ktera vybere nahodny index a vykresli obrazek lezici na tomto indexu v nasich datech."
   ]
  },
  {
   "cell_type": "code",
   "execution_count": 30,
   "metadata": {
    "collapsed": true
   },
   "outputs": [],
   "source": [
    "def plot_radom_image():\n",
    "    n = np.random.randint(low=0, high=X.shape[0])  # vyber nahodny index (0 <= index <= pocet obrazku - 1)\n",
    "    X_sample = X[n, :]  # vyber obrazek lezici na danem indexu\n",
    "    y_sample = y[n, :]  # vyber one-hot-encoded label lezici na danem indexu\n",
    "    sampled_image = np.reshape(a=X_sample, newshape=(IMAGE_SIZE, IMAGE_SIZE))  # transformuj do matice\n",
    "    sampled_label = np.argmax(y_sample)  # 1-hot-encoded --> number\n",
    "    plt.imshow(sampled_image)  # vykresli obrazek\n",
    "    plt.title(\"True label: {:d}\".format(sampled_label))  # pridej popisek se skutecnou hodnotou cislice\n",
    "    plt.colorbar()  # pridej colorbar\n",
    "    plt.show()  # ukaz"
   ]
  },
  {
   "cell_type": "code",
   "execution_count": 31,
   "metadata": {},
   "outputs": [
    {
     "data": {
      "image/png": "[encoded data removed]",
      "text/plain": [
       "<Figure size 432x288 with 2 Axes>"
      ]
     },
     "metadata": {},
     "output_type": "display_data"
    }
   ],
   "source": [
    "plot_radom_image()  # zavolani funkce"
   ]
  },
  {
   "cell_type": "markdown",
   "metadata": {},
   "source": [
    "## Normalizace\n",
    "Pro neutonovou sit je vetsinou nejlepsi, kdyz vidi pouze hodnoty okolo nuly. Proto data (pixely) pretransformujeme tak, aby meli prumerem $0$ a rozptyl $1$.\n",
    "\n",
    "Od kazdeho pixelu odecteme prumer vsech $\\left(\\text{predpokladejme, ze je roven} \\frac{\\text{PIXEL_DEPTH}}{2}\\right)$ a vydelime rozpetim $\\left(x_{\\text{max}} - x_{\\text{min}} = \\text{PIXEL_DEPTH}\\right)$."
   ]
  },
  {
   "cell_type": "code",
   "execution_count": 32,
   "metadata": {},
   "outputs": [],
   "source": [
    "# Pozor: !!!!!!!Tuto bunku spoustet jen jednou!!!!!!!\n",
    "X = (X - (PIXEL_DEPTH / 2)) / PIXEL_DEPTH  # normalizujeme pixely\n",
    "X = X.astype(np.float32)  # pretypujeme na np.float32"
   ]
  },
  {
   "cell_type": "code",
   "execution_count": 38,
   "metadata": {},
   "outputs": [
    {
     "data": {
      "image/png": "[encoded data removed]",
      "text/plain": [
       "<Figure size 432x288 with 2 Axes>"
      ]
     },
     "metadata": {},
     "output_type": "display_data"
    }
   ],
   "source": [
    "plot_radom_image()  # vykreslime transformovany obrazek"
   ]
  },
  {
   "cell_type": "markdown",
   "metadata": {},
   "source": [
    "## Rozdeleni dat\n",
    "Data rozdeline do tri podmnozin:\n",
    "* **treninkova**: pro trenink (0.8)\n",
    "* **validacni**: pro prubeznou kontrolu proti overfitingu behem treninku a ladeni hyperparametru (0.1)\n",
    "* **testovaci**: pro konecnou kontrolu vysledku na modelu naprosto neznamych datech (0.1)\n",
    "\n",
    "<img src=./images/train_valid_test.jpeg alt=\"Rozdeleni dat\" style=\"width: 700px;\"/>"
   ]
  },
  {
   "cell_type": "code",
   "execution_count": 34,
   "metadata": {
    "scrolled": true
   },
   "outputs": [
    {
     "name": "stdout",
     "output_type": "stream",
     "text": [
      "Test size:   4200\n",
      "Valid size:  4200\n",
      "Train size: 33600\n"
     ]
    }
   ],
   "source": [
    "TEST_PROPORTION = 0.1  # velikost testovaci sady\n",
    "VALID_PROPORTION = 0.1  # velikost validacni sady\n",
    "TRAIN_PROPORTION = 1 - TEST_PROPORTION - VALID_PROPORTION   # zbytek je pro trenink\n",
    "\n",
    "num_samples = X.shape[0]  # pocet obrazku\n",
    "test_size = int(TEST_PROPORTION * num_samples)  # pocet obrazku pro testovani\n",
    "valid_size = int(VALID_PROPORTION * num_samples)  # pocet obrazku pro validaci\n",
    "train_size = int(TRAIN_PROPORTION * num_samples)  # pocet obrazku pro trenink\n",
    "print(\"Test size:  \", test_size)  # vypis pocet obrazku pro testovani\n",
    "print(\"Valid size: \", valid_size)  # vypis pocet obrazku pro validaci\n",
    "print(\"Train size:\", train_size)  # vypis pocet obrazku pro trenink\n",
    "\n",
    "X_train = X[:train_size]  # prvnich (train_size) obrazku pro trenink\n",
    "y_train = y[:train_size]  # prvnich (train_size) obrazku pro trenink\n",
    "\n",
    "X_valid = X[train_size : (train_size + valid_size)]  # (train_size) az (train_size + valid_size) pro validaci\n",
    "y_valid = y[train_size : (train_size + valid_size)]  # (train_size) az (train_size + valid_size) pro validaci\n",
    "\n",
    "X_test = X[(train_size + valid_size):]  # zbytek pro testovani\n",
    "y_test = y[(train_size + valid_size):]  # zbytek pro testovani"
   ]
  },
  {
   "cell_type": "markdown",
   "metadata": {},
   "source": [
    "Abychom zabranili tomu, ze data jsou poskladana za sebou napriklad podle prislusnosti ka dane tride, musime je posprehazet. Pouzijeme na to funkci z balicku *scikit-learn*."
   ]
  },
  {
   "cell_type": "code",
   "execution_count": 35,
   "metadata": {
    "collapsed": true
   },
   "outputs": [],
   "source": [
    "X_train, y_train = skl.utils.shuffle(X_train, y_train)  # posprehazime\n",
    "X_valid, y_valid = skl.utils.shuffle(X_valid, y_valid)  # posprehazime\n",
    "X_test, y_test = skl.utils.shuffle(X_test, y_test)  # posprehazime"
   ]
  },
  {
   "cell_type": "markdown",
   "metadata": {},
   "source": [
    "## Ulozeni zpracovanych dat\n",
    "Abychom celou proceduru tohoto notebooku nemuseli opakovat pred kazdym treninkem, takto pripravena data vlozime do jednoho slovniku a ulozime v binarni podobe na disk. To nam umozni jejich rychle a snadne nacteni bez dalsiho preprocessingu."
   ]
  },
  {
   "cell_type": "code",
   "execution_count": 36,
   "metadata": {
    "collapsed": true
   },
   "outputs": [],
   "source": [
    "# vse ulozime do jednoho slovniku\n",
    "save = {'X_train': X_train,\n",
    "        'y_train': y_train,\n",
    "        'X_valid': X_valid,\n",
    "        'y_valid': y_valid,\n",
    "        'X_test': X_test,\n",
    "        'y_test': y_test}\n",
    "\n",
    "SAVE_PATH = './data/MNIST.pkl'  # cesta pro ulozeni souboru\n",
    "\n",
    "with open(file=SAVE_PATH, mode='wb') as save_file:  # otevreme tento soubor a pojmenujeme 'save_file'\n",
    "    pickle.dump(file=save_file, obj=save)  # ulozime do nej slovnik 'save'"
   ]
  }
 ],
 "metadata": {
  "kernelspec": {
   "display_name": "Python 3",
   "language": "python",
   "name": "python3"
  },
  "language_info": {
   "codemirror_mode": {
    "name": "ipython",
    "version": 3
   },
   "file_extension": ".py",
   "mimetype": "text/x-python",
   "name": "python",
   "nbconvert_exporter": "python",
   "pygments_lexer": "ipython3",
   "version": "3.6.4"
  }
 },
 "nbformat": 4,
 "nbformat_minor": 2
}
