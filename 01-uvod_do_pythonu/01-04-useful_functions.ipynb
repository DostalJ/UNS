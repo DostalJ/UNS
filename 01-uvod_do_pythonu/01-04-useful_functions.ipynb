{
 "cells": [
  {
   "cell_type": "markdown",
   "metadata": {},
   "source": [
    "# Užitečné funkce\n",
    "Jak jsme viděli v předchozím notebooku v pythonu lze snadno deklarova a používat fuknce. Zde se podívejme na několik základních built-in funkcí."
   ]
  },
  {
   "cell_type": "markdown",
   "metadata": {},
   "source": [
    "## Základní [built-in funkce](https://docs.python.org/3/library/functions.html)"
   ]
  },
  {
   "cell_type": "markdown",
   "metadata": {},
   "source": [
    "#### Print\n",
    "Funkce [**print()**](https://docs.python.org/3/library/functions.html#print) vypisuje text do konzole."
   ]
  },
  {
   "cell_type": "code",
   "execution_count": 31,
   "metadata": {},
   "outputs": [
    {
     "name": "stdout",
     "output_type": "stream",
     "text": [
      "Ahoj\n"
     ]
    }
   ],
   "source": [
    "print('Ahoj')  # vypisuje do konzole"
   ]
  },
  {
   "cell_type": "markdown",
   "metadata": {},
   "source": [
    "#### Type\n",
    "Funkce [**type()**](https://docs.python.org/3/library/functions.html#type) vrací typ objektu."
   ]
  },
  {
   "cell_type": "code",
   "execution_count": 32,
   "metadata": {},
   "outputs": [
    {
     "name": "stdout",
     "output_type": "stream",
     "text": [
      "<class 'list'>\n",
      "<class 'int'>\n",
      "<class 'str'>\n"
     ]
    }
   ],
   "source": [
    "print(type([1,2,3]))\n",
    "print(type(5))\n",
    "print(type(\"\"))"
   ]
  },
  {
   "cell_type": "markdown",
   "metadata": {},
   "source": [
    "#### Přetypování\n",
    "Pro změny typu proměnné ze stringu ```\"3\"``` na číslo ```3``` slouží funkce [**int()**](https://docs.python.org/3/library/functions.html#int) Obdobně pro jiné výsledné datové typy [**float()**](https://docs.python.org/3/library/functions.html#float), [**str()**](https://docs.python.org/3/library/functions.html#func-str), ..."
   ]
  },
  {
   "cell_type": "code",
   "execution_count": 33,
   "metadata": {},
   "outputs": [
    {
     "name": "stdout",
     "output_type": "stream",
     "text": [
      "3 <class 'str'>\n",
      "3 <class 'int'>\n",
      "3.0 <class 'float'>\n"
     ]
    }
   ],
   "source": [
    "three_string = \"3\"\n",
    "print(three_string, type(three_string))\n",
    "\n",
    "three_int = int(three_string)\n",
    "print(three_int, type(three_int))\n",
    "\n",
    "three_float = float(three_int)\n",
    "print(three_float, type(three_float))"
   ]
  },
  {
   "cell_type": "markdown",
   "metadata": {},
   "source": [
    "#### Len\n",
    "V pythonu je velmi snadné měřit délku potomků trídy `iterabel`. Slouží k tomu funkce [**len()**](https://docs.python.org/3/library/functions.html#len)."
   ]
  },
  {
   "cell_type": "code",
   "execution_count": 34,
   "metadata": {},
   "outputs": [
    {
     "name": "stdout",
     "output_type": "stream",
     "text": [
      "Delka 'my_list': 4\n",
      "Delka 'my_list_of_lists': 2\n",
      "Delka 'my_string': 17\n"
     ]
    }
   ],
   "source": [
    "my_list = [1, 2, 3, 4]  # list o 4 prvcich\n",
    "print(\"Delka 'my_list':\", len(my_list))\n",
    "\n",
    "my_list_of_lists = [[1,2,3], [6,7,8]]  # pozor, pouze dva prvky typu list\n",
    "print(\"Delka 'my_list_of_lists':\", len(my_list_of_lists))\n",
    "\n",
    "my_string = \"Ahoj, jak to jde?\"\n",
    "print(\"Delka 'my_string':\", len(my_string))"
   ]
  },
  {
   "cell_type": "markdown",
   "metadata": {},
   "source": [
    "#### Max, Min\n",
    "Funkce [**max()**](https://docs.python.org/3/library/functions.html#max) a [**min()**](https://docs.python.org/3/library/functions.html#min) si jsou svým chováním velmi podobné. Demonstrujeme tedy pouze na **max()**."
   ]
  },
  {
   "cell_type": "code",
   "execution_count": 35,
   "metadata": {},
   "outputs": [
    {
     "name": "stdout",
     "output_type": "stream",
     "text": [
      "Maximum of 'list_of_ints': 4\n",
      "String with maximum length from 'list_of_strings': abrakadabra\n"
     ]
    }
   ],
   "source": [
    "list_of_ints = [1, 2, 3, 4]\n",
    "print(\"Maximum of 'list_of_ints':\", max(list_of_ints))\n",
    "\n",
    "# lze zvolit také metodu pro porovnání\n",
    "list_of_strings = [\"Ahoj\", \"jak\", \"to\", \"jde\", \"?\", \"abrakadabra\"]\n",
    "max_string = max(list_of_strings, key=len)\n",
    "\n",
    "print(\"String with maximum length from 'list_of_strings':\", max_string)"
   ]
  },
  {
   "cell_type": "markdown",
   "metadata": {},
   "source": [
    "#### Sum\n",
    "Funkce [**sum()**](https://docs.python.org/3/library/functions.html#sum) umí sečíst *list* *intů*."
   ]
  },
  {
   "cell_type": "code",
   "execution_count": 36,
   "metadata": {},
   "outputs": [
    {
     "name": "stdout",
     "output_type": "stream",
     "text": [
      "Soucet cisel v 'my_list': 15\n"
     ]
    }
   ],
   "source": [
    "my_list = [1, 2, 3, 4, 5]\n",
    "print(\"Soucet cisel v 'my_list':\", sum(my_list))"
   ]
  },
  {
   "cell_type": "markdown",
   "metadata": {},
   "source": [
    "#### Open\n",
    "Funkce [**open()**](https://docs.python.org/3/library/functions.html#open) slouží k otevírání souboru libovolného druhu. Její funkci ukážeme na příkladu otevření textového souboru *weights.csv*"
   ]
  },
  {
   "cell_type": "code",
   "execution_count": 37,
   "metadata": {},
   "outputs": [
    {
     "name": "stdout",
     "output_type": "stream",
     "text": [
      "Pepa, 4.5\n",
      "Josef, 2.9\n",
      "Honza, 3.14\n",
      "Jan, 4.6\n",
      "Jakub, 2.87\n",
      "Kuba, 4.1\n"
     ]
    }
   ],
   "source": [
    "file = open(file='./data/example.csv', mode='r')  # mode='r' znamena, ze souboru budeme pouze cist hodnoty (nebudeme nic psat)\n",
    "data = file.read()                                # precteme vsechny data (tak jak jsou zapsana v souboru)\n",
    "file.close()                                      # na konci vzdy musime uzavrit soubor!\n",
    "\n",
    "print(data)"
   ]
  },
  {
   "cell_type": "code",
   "execution_count": 38,
   "metadata": {},
   "outputs": [
    {
     "name": "stdout",
     "output_type": "stream",
     "text": [
      "Pepa, 4.5\n",
      "Josef, 2.9\n",
      "Honza, 3.14\n",
      "Jan, 4.6\n",
      "Jakub, 2.87\n",
      "Kuba, 4.1\n"
     ]
    }
   ],
   "source": [
    "with open(file='./data/example.csv', mode='r') as file:\n",
    "    data = file.read()\n",
    "\n",
    "    print(data)"
   ]
  },
  {
   "cell_type": "markdown",
   "metadata": {},
   "source": [
    "## Metody základních tříd (funkce příslušející základním třídám)"
   ]
  },
  {
   "cell_type": "markdown",
   "metadata": {},
   "source": [
    "##### *Technikálie*\n",
    "*Chceme-li být precizní, musíme rozlišovat mezi funkcí a metodou určité třídy.\n",
    "V případě, kdy voláme libovolnou funkci `func(x)` na argument `x` jedná se o funkci.\n",
    "\n",
    "Podobně vypadá `[1,2,3].append(4)`. Zde voláme funkci pomocí tečkové notace na objekt typu *list* a mluvíme o **metodě** objektu *list*."
   ]
  },
  {
   "cell_type": "markdown",
   "metadata": {},
   "source": [
    "### String\n",
    "#### Format\n",
    "Funkce [**format()**](https://docs.python.org/3/library/functions.html#format) lze aplikovat na *string* a pomoci ho formátovat. Užíváme tzv. tečkovou notaci, tj. funkci píšeme s tečkou za objekt."
   ]
  },
  {
   "cell_type": "code",
   "execution_count": 39,
   "metadata": {},
   "outputs": [
    {
     "name": "stdout",
     "output_type": "stream",
     "text": [
      "Optimum potencialu je v bodu: 3.142\n",
      "Cislo v tridnim vykazu je: 00048\n"
     ]
    }
   ],
   "source": [
    "formated_float = \"Optimum potencialu je v bodu: {:.3f}\".format(3.141592654)\n",
    "print(formated_float)\n",
    "\n",
    "formated_int = \"Cislo v tridnim vykazu je: {:05d}\".format(48)\n",
    "print(formated_int)"
   ]
  },
  {
   "cell_type": "markdown",
   "metadata": {},
   "source": [
    "#### Split\n",
    "Funkce [**split()**](https://docs.python.org/3/library/stdtypes.html#str.split) slouží k rozdělení *stringu* podle daneho znaku."
   ]
  },
  {
   "cell_type": "code",
   "execution_count": 40,
   "metadata": {},
   "outputs": [
    {
     "name": "stdout",
     "output_type": "stream",
     "text": [
      "['Dnes', 'jsem', 'velmi', 'ospaly']\n"
     ]
    }
   ],
   "source": [
    "long_string = \"Dnes jsem velmi ospaly\"\n",
    "\n",
    "splitted_string = long_string.split(' ')\n",
    "\n",
    "print(splitted_string)"
   ]
  },
  {
   "cell_type": "markdown",
   "metadata": {},
   "source": [
    "#### Lower\n",
    "Funkce [**lower()**](https://docs.python.org/3/library/stdtypes.html#string-methods) slouží k převodu velkých písmen na malá."
   ]
  },
  {
   "cell_type": "code",
   "execution_count": 41,
   "metadata": {},
   "outputs": [
    {
     "name": "stdout",
     "output_type": "stream",
     "text": [
      "jmenuji se jakub\n"
     ]
    }
   ],
   "source": [
    "partly_upper_string = \"Jmenuji SE Jakub\"\n",
    "\n",
    "lowered_string = partly_upper_string.lower()\n",
    "\n",
    "print(lowered_string)"
   ]
  },
  {
   "cell_type": "markdown",
   "metadata": {},
   "source": [
    "### List\n",
    "#### Append, Pop\n",
    "Funkce [**append()**](https://docs.python.org/3/tutorial/datastructures.html) slouží k přidávání prvků do listu. Každý takto přidaný prvek se zařadí na poslední pozici."
   ]
  },
  {
   "cell_type": "code",
   "execution_count": 42,
   "metadata": {},
   "outputs": [
    {
     "name": "stdout",
     "output_type": "stream",
     "text": [
      "my_list: [1, 2, 3, 4]\n",
      "my_list: [1, 2, 3, 4, 5]\n",
      "my_list: [1, 2, 3, 4]\n"
     ]
    }
   ],
   "source": [
    "my_list = [1, 2, 3, 4]\n",
    "print(\"my_list:\", my_list)\n",
    "\n",
    "my_list.append(5)  # je provedeno tzv. \"in-place\" nic nevraci, ale meni samotny list\n",
    "print(\"my_list:\", my_list)\n",
    "\n",
    "my_list.pop()  # metoda pop odstrani posledi prvek a vrati jej (nikam ho vsak zde neprirazujeme)\n",
    "print(\"my_list:\", my_list)"
   ]
  },
  {
   "cell_type": "markdown",
   "metadata": {},
   "source": [
    "## Dokumentace\n",
    "Seznam vsech metod a atributu objektu je dostupny pomoci funkce **help**."
   ]
  },
  {
   "cell_type": "code",
   "execution_count": 43,
   "metadata": {},
   "outputs": [
    {
     "name": "stdout",
     "output_type": "stream",
     "text": [
      "Help on list object:\n",
      "\n",
      "class list(object)\n",
      " |  list() -> new empty list\n",
      " |  list(iterable) -> new list initialized from iterable's items\n",
      " |  \n",
      " |  Methods defined here:\n",
      " |  \n",
      " |  __add__(self, value, /)\n",
      " |      Return self+value.\n",
      " |  \n",
      " |  __contains__(self, key, /)\n",
      " |      Return key in self.\n",
      " |  \n",
      " |  __delitem__(self, key, /)\n",
      " |      Delete self[key].\n",
      " |  \n",
      " |  __eq__(self, value, /)\n",
      " |      Return self==value.\n",
      " |  \n",
      " |  __ge__(self, value, /)\n",
      " |      Return self>=value.\n",
      " |  \n",
      " |  __getattribute__(self, name, /)\n",
      " |      Return getattr(self, name).\n",
      " |  \n",
      " |  __getitem__(...)\n",
      " |      x.__getitem__(y) <==> x[y]\n",
      " |  \n",
      " |  __gt__(self, value, /)\n",
      " |      Return self>value.\n",
      " |  \n",
      " |  __iadd__(self, value, /)\n",
      " |      Implement self+=value.\n",
      " |  \n",
      " |  __imul__(self, value, /)\n",
      " |      Implement self*=value.\n",
      " |  \n",
      " |  __init__(self, /, *args, **kwargs)\n",
      " |      Initialize self.  See help(type(self)) for accurate signature.\n",
      " |  \n",
      " |  __iter__(self, /)\n",
      " |      Implement iter(self).\n",
      " |  \n",
      " |  __le__(self, value, /)\n",
      " |      Return self<=value.\n",
      " |  \n",
      " |  __len__(self, /)\n",
      " |      Return len(self).\n",
      " |  \n",
      " |  __lt__(self, value, /)\n",
      " |      Return self<value.\n",
      " |  \n",
      " |  __mul__(self, value, /)\n",
      " |      Return self*value.n\n",
      " |  \n",
      " |  __ne__(self, value, /)\n",
      " |      Return self!=value.\n",
      " |  \n",
      " |  __new__(*args, **kwargs) from builtins.type\n",
      " |      Create and return a new object.  See help(type) for accurate signature.\n",
      " |  \n",
      " |  __repr__(self, /)\n",
      " |      Return repr(self).\n",
      " |  \n",
      " |  __reversed__(...)\n",
      " |      L.__reversed__() -- return a reverse iterator over the list\n",
      " |  \n",
      " |  __rmul__(self, value, /)\n",
      " |      Return self*value.\n",
      " |  \n",
      " |  __setitem__(self, key, value, /)\n",
      " |      Set self[key] to value.\n",
      " |  \n",
      " |  __sizeof__(...)\n",
      " |      L.__sizeof__() -- size of L in memory, in bytes\n",
      " |  \n",
      " |  append(...)\n",
      " |      L.append(object) -> None -- append object to end\n",
      " |  \n",
      " |  clear(...)\n",
      " |      L.clear() -> None -- remove all items from L\n",
      " |  \n",
      " |  copy(...)\n",
      " |      L.copy() -> list -- a shallow copy of L\n",
      " |  \n",
      " |  count(...)\n",
      " |      L.count(value) -> integer -- return number of occurrences of value\n",
      " |  \n",
      " |  extend(...)\n",
      " |      L.extend(iterable) -> None -- extend list by appending elements from the iterable\n",
      " |  \n",
      " |  index(...)\n",
      " |      L.index(value, [start, [stop]]) -> integer -- return first index of value.\n",
      " |      Raises ValueError if the value is not present.\n",
      " |  \n",
      " |  insert(...)\n",
      " |      L.insert(index, object) -- insert object before index\n",
      " |  \n",
      " |  pop(...)\n",
      " |      L.pop([index]) -> item -- remove and return item at index (default last).\n",
      " |      Raises IndexError if list is empty or index is out of range.\n",
      " |  \n",
      " |  remove(...)\n",
      " |      L.remove(value) -> None -- remove first occurrence of value.\n",
      " |      Raises ValueError if the value is not present.\n",
      " |  \n",
      " |  reverse(...)\n",
      " |      L.reverse() -- reverse *IN PLACE*\n",
      " |  \n",
      " |  sort(...)\n",
      " |      L.sort(key=None, reverse=False) -> None -- stable sort *IN PLACE*\n",
      " |  \n",
      " |  ----------------------------------------------------------------------\n",
      " |  Data and other attributes defined here:\n",
      " |  \n",
      " |  __hash__ = None\n",
      "\n"
     ]
    }
   ],
   "source": [
    "help(my_list)"
   ]
  }
 ],
 "metadata": {
  "kernelspec": {
   "display_name": "Python 3",
   "language": "python",
   "name": "python3"
  },
  "language_info": {
   "codemirror_mode": {
    "name": "ipython",
    "version": 3
   },
   "file_extension": ".py",
   "mimetype": "text/x-python",
   "name": "python",
   "nbconvert_exporter": "python",
   "pygments_lexer": "ipython3",
   "version": "3.6.4"
  }
 },
 "nbformat": 4,
 "nbformat_minor": 2
}
