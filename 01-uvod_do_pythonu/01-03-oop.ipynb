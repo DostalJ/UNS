{
 "cells": [
  {
   "cell_type": "markdown",
   "metadata": {},
   "source": [
    "# Objektově orientované programování"
   ]
  },
  {
   "cell_type": "markdown",
   "metadata": {},
   "source": [
    "Cokoli potkáme v pythonu je objekt nějaké třídy.\n",
    "\n",
    "Zde představím jen jednoduchý příklad konstrukce třídy, více např. zde: [Object Oriented Programming](https://python.swaroopch.com/oop.html)."
   ]
  },
  {
   "cell_type": "code",
   "execution_count": 41,
   "metadata": {},
   "outputs": [],
   "source": [
    "class Person:\n",
    "    def __init__(self, name, age):\n",
    "        \n",
    "        self.name = name\n",
    "        self.age = age\n",
    "\n",
    "        self.partners = dict()\n",
    "\n",
    "    def say_hello(self):\n",
    "        print(\"Hello, my name is\", self.name)\n",
    "    \n",
    "    def get_age(self):\n",
    "        return self.age\n",
    "\n",
    "    def set_age(self, age):\n",
    "        self.age = age\n",
    "\n",
    "    def add_partner(self, partner):\n",
    "        partners_name = partner.name\n",
    "\n",
    "        self.partners[partners_name] = partner"
   ]
  },
  {
   "cell_type": "code",
   "execution_count": 42,
   "metadata": {},
   "outputs": [],
   "source": [
    "person1 = Person('Pepa', age=20)"
   ]
  },
  {
   "cell_type": "code",
   "execution_count": 43,
   "metadata": {},
   "outputs": [
    {
     "name": "stdout",
     "output_type": "stream",
     "text": [
      "Hello, my name is Pepa\n"
     ]
    }
   ],
   "source": [
    "person1.say_hello()"
   ]
  },
  {
   "cell_type": "code",
   "execution_count": 44,
   "metadata": {},
   "outputs": [
    {
     "name": "stdout",
     "output_type": "stream",
     "text": [
      "Current age: 20\n",
      "New age: 21\n"
     ]
    }
   ],
   "source": [
    "age = person1.age\n",
    "# age = person1.get_age()\n",
    "print('Current age:', age)\n",
    "\n",
    "\n",
    "person1.set_age(age + 1)\n",
    "# new_age = person1.age\n",
    "new_age = person1.get_age()\n",
    "print('New age:', new_age)"
   ]
  },
  {
   "cell_type": "code",
   "execution_count": 47,
   "metadata": {},
   "outputs": [
    {
     "name": "stdout",
     "output_type": "stream",
     "text": [
      "{'Josef': <__main__.Person object at 0x10cdb4be0>}\n"
     ]
    }
   ],
   "source": [
    "person2 = Person('Josef', 44)\n",
    "\n",
    "person1.add_partner(person2)\n",
    "\n",
    "print(person1.partners)"
   ]
  },
  {
   "cell_type": "code",
   "execution_count": 50,
   "metadata": {},
   "outputs": [
    {
     "name": "stdout",
     "output_type": "stream",
     "text": [
      "Hello, my name is Josef\n"
     ]
    }
   ],
   "source": [
    "person1.partners['Josef'].say_hello()"
   ]
  }
 ],
 "metadata": {
  "kernelspec": {
   "display_name": "Python 3",
   "language": "python",
   "name": "python3"
  },
  "language_info": {
   "codemirror_mode": {
    "name": "ipython",
    "version": 3
   },
   "file_extension": ".py",
   "mimetype": "text/x-python",
   "name": "python",
   "nbconvert_exporter": "python",
   "pygments_lexer": "ipython3",
   "version": "3.6.4"
  }
 },
 "nbformat": 4,
 "nbformat_minor": 2
}
